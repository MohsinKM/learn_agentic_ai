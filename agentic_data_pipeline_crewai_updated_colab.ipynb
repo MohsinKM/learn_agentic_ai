{
  "cells": [
    {
      "cell_type": "markdown",
      "id": "c7a57538",
      "metadata": {
        "id": "c7a57538"
      },
      "source": [
        "# 🧠 Agentic Analytics with CrewAI: A Minimal Working Example\n",
        "\n",
        "This notebook demonstrates a simplified **agentic data pipeline** using [CrewAI](https://github.com/joaomdmoura/crewai). It showcases how multiple AI agents can work together to perform real-world analytics tasks—in this case, loading and visualizing the Iris dataset.\n",
        "\n",
        "We simulate:\n",
        "- 🛰️ A **Data Ingestion Agent**\n",
        "- 📊 A **Visualization Agent**\n",
        "\n",
        "These agents collaborate in a structured pipeline, allowing you to experience how agent roles and task delegation work in practice—**without glue code or manual orchestration**.\n",
        "\n",
        "---\n",
        "\n",
        "👤 **Author**: [Dr. K.M. Mohsin](https://www.linkedin.com/in/km-mohsin/)  \n",
        "Follow me on LinkedIn to explore more around **Agentic AI, CrewAI, LangGraph, and real-world LLM applications in analytics, automation, and education.**"
      ]
    },
    {
      "cell_type": "markdown",
      "id": "572a6a59",
      "metadata": {
        "id": "572a6a59"
      },
      "source": [
        "## ✅ Step 1: Install Dependencies and LLM Key"
      ]
    },
    {
      "cell_type": "code",
      "execution_count": null,
      "id": "4b87b784",
      "metadata": {
        "id": "4b87b784"
      },
      "outputs": [],
      "source": [
        "!pip install -U crewai openai pandas matplotlib tabulate python-dotenv"
      ]
    },
    {
      "cell_type": "markdown",
      "source": [
        "### Place .env file and save your LLM Key"
      ],
      "metadata": {
        "id": "Rg4w2WFEBsvQ"
      },
      "id": "Rg4w2WFEBsvQ"
    },
    {
      "cell_type": "code",
      "source": [
        "# Load your OpenAI API key securely\n",
        "import os\n",
        "from dotenv import load_dotenv\n",
        "\n",
        "# Option 1 (Quick, not secure)\n",
        "# os.environ[\"OPENAI_API_KEY\"] = \"sk-...\"\n",
        "\n",
        "# Option 2 (Preferred: .env file with OPENAI_API_KEY=sk-...)\n",
        "load_dotenv()\n"
      ],
      "metadata": {
        "id": "ycrxdI7e_1Rf"
      },
      "id": "ycrxdI7e_1Rf",
      "execution_count": null,
      "outputs": []
    },
    {
      "cell_type": "markdown",
      "id": "c13bacfc",
      "metadata": {
        "id": "c13bacfc"
      },
      "source": [
        "## 🧠 Step 2: Define Tools using `@tool`"
      ]
    },
    {
      "cell_type": "code",
      "execution_count": null,
      "id": "8c2e66e5",
      "metadata": {
        "id": "8c2e66e5"
      },
      "outputs": [],
      "source": [
        "\n",
        "from crewai.tools import tool\n",
        "\n",
        "@tool(\"Load Iris Dataset\")\n",
        "def load_data_tool(_input: str) -> str:\n",
        "    \"\"\"Loads the Iris dataset from a CSV file.\"\"\"\n",
        "    import pandas as pd\n",
        "    df = pd.read_csv(\"https://raw.githubusercontent.com/mwaskom/seaborn-data/master/iris.csv\")\n",
        "    return df.to_json()\n",
        "\n",
        "@tool(\"Generate Scatter Plot\")\n",
        "def plot_data_tool(df_json: str) -> str:\n",
        "    \"\"\"Generates a scatter plot of sepal length vs petal length.\"\"\"\n",
        "    import pandas as pd\n",
        "    import matplotlib.pyplot as plt\n",
        "    df = pd.read_json(df_json)\n",
        "    df.plot(kind='scatter', x='sepal_length', y='petal_length')\n",
        "    plt.title(\"Sepal vs Petal Length\")\n",
        "    plt.savefig(\"plot.png\")\n",
        "    return \"Plot saved to plot.png\"\n"
      ]
    },
    {
      "cell_type": "markdown",
      "id": "699672f3",
      "metadata": {
        "id": "699672f3"
      },
      "source": [
        "## 👥 Step 3: Define Agents"
      ]
    },
    {
      "cell_type": "code",
      "execution_count": null,
      "id": "613d4779",
      "metadata": {
        "id": "613d4779"
      },
      "outputs": [],
      "source": [
        "from crewai import Agent\n",
        "\n",
        "def build_agents():\n",
        "    # Added 'goal' and 'backstory' parameters to the Agent initializations\n",
        "    ingestion = Agent(\n",
        "        name=\"IngestionAgent\",\n",
        "        role=\"Fetches data\",\n",
        "        goal=\"Load the Iris dataset from a specified URL and provide it for further processing.\",\n",
        "        backstory=\"This agent is responsible for accessing external data sources and retrieving the necessary information for analysis.\",\n",
        "        tools=[load_data_tool]\n",
        "    )\n",
        "    visualization = Agent(\n",
        "        name=\"VizAgent\",\n",
        "        role=\"Plots data\",\n",
        "        goal=\"Generate a scatter plot using the provided data, specifically focusing on sepal length versus petal length.\",\n",
        "        backstory=\"This agent specializes in data visualization, taking structured data and creating informative plots.\",\n",
        "        tools=[plot_data_tool]\n",
        "    )\n",
        "    return ingestion, visualization\n"
      ]
    },
    {
      "cell_type": "markdown",
      "id": "208b1bfe",
      "metadata": {
        "id": "208b1bfe"
      },
      "source": [
        "## 🛠️ Step 4: Run the Crew"
      ]
    },
    {
      "cell_type": "code",
      "source": [
        "\n",
        "from crewai import Crew\n",
        "from crewai import Task\n",
        "\n",
        "ingestion_agent, viz_agent = build_agents()\n",
        "\n",
        "crew = Crew(\n",
        "    agents=[ingestion_agent, viz_agent],\n",
        "    tasks=[\n",
        "        Task(\n",
        "            agent=ingestion_agent,\n",
        "            description=\"Load the Iris dataset from the specified URL for visualization.\",\n",
        "            expected_output=\"A JSON string representing the Iris dataset.\",\n",
        "        ),\n",
        "        Task(\n",
        "            agent=viz_agent,\n",
        "            description=\"Generate a scatter plot of sepal length versus petal length from the provided Iris dataset.\",\n",
        "            expected_output=\"A file named 'plot.png' containing the scatter plot.\",\n",
        "        )\n",
        "    ]\n",
        ")\n",
        "\n",
        "crew.kickoff()"
      ],
      "metadata": {
        "id": "rk46gXug95EK"
      },
      "id": "rk46gXug95EK",
      "execution_count": null,
      "outputs": []
    }
  ],
  "metadata": {
    "colab": {
      "provenance": []
    },
    "language_info": {
      "name": "python"
    },
    "kernelspec": {
      "name": "python3",
      "display_name": "Python 3"
    }
  },
  "nbformat": 4,
  "nbformat_minor": 5
}